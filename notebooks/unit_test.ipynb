{
 "cells": [
  {
   "cell_type": "markdown",
   "source": [
    "# Import libraries"
   ],
   "metadata": {
    "collapsed": false
   },
   "id": "4eb3892c198b52d2"
  },
  {
   "cell_type": "code",
   "execution_count": null,
   "id": "initial_id",
   "metadata": {
    "collapsed": true,
    "is_executing": true
   },
   "outputs": [],
   "source": [
    "from modeling.backbone.vit_adapter import ViTAdapter\n",
    "import torch"
   ]
  },
  {
   "cell_type": "code",
   "outputs": [],
   "source": [
    "vit_adapter = ViTAdapter(\n",
    "    pretrain_size=518,\n",
    "    num_heads=24,\n",
    "    conv_inplane=64,\n",
    "    patch_size=14,\n",
    "    embed_dim=1536,\n",
    "    depth=40,\n",
    "    mlp_ratio=4,\n",
    "    drop_path_rate=0.4,\n",
    "    n_points=4,\n",
    "    deform_num_heads=24,\n",
    "    cffn_ratio=0.25,\n",
    "    deform_ratio=0.5,\n",
    "    \n",
    "    interaction_indexes=[[0, 9], [10, 19], [20, 29], [30, 39]],\n",
    "    window_attn=[False, False, False, False, False, False, False, False, False, False, False, False, False, False, False, False, False, False, False, False, False, False, False, False, False, False, False, False, False, False, False, False, False, False, False, False, False, False, False, False],\n",
    "    window_size=[None, None, None, None, None, None, None, None, None, None, None, None, None, None, None, None, None, None, None, None, None, None, None, None, None, None, None, None, None, None, None, None, None, None, None, None, None, None, None, None],\n",
    "    freeze_vit=True,\n",
    "    use_cls=True,\n",
    "    img_size=518,\n",
    "    ffn_type='swiglu'\n",
    ")"
   ],
   "metadata": {
    "collapsed": false,
    "ExecuteTime": {
     "end_time": "2024-03-02T08:13:27.818988400Z",
     "start_time": "2024-03-02T08:13:12.830135200Z"
    }
   },
   "id": "6be204f84ec655",
   "execution_count": 2
  },
  {
   "cell_type": "markdown",
   "source": [
    "## Test Vit Input"
   ],
   "metadata": {
    "collapsed": false
   },
   "id": "570f7759306525d0"
  },
  {
   "cell_type": "code",
   "outputs": [
    {
     "name": "stdout",
     "output_type": "stream",
     "text": [
      "torch.Size([1, 3, 512, 512])\n",
      "torch.Size([1, 1536, 128, 128])\n",
      "torch.Size([1, 1536, 64, 64])\n",
      "torch.Size([1, 1536, 32, 32])\n",
      "torch.Size([1, 1536, 16, 16])\n",
      "tensor(0.0114)\n"
     ]
    }
   ],
   "source": [
    "vit_input = torch.load(\"/mnt/e/dinov2-main/data/vit_before_input_x.pth\")\n",
    "vit_output_1 = torch.load(\"/mnt/e/dinov2-main/data/vit_after_input_f1.pth\")\n",
    "vit_output_2 = torch.load(\"/mnt/e/dinov2-main/data/vit_after_input_f2.pth\")\n",
    "vit_output_3 = torch.load(\"/mnt/e/dinov2-main/data/vit_after_input_f3.pth\")\n",
    "vit_output_4 = torch.load(\"/mnt/e/dinov2-main/data/vit_after_input_f4.pth\")\n",
    "print(vit_input.size())\n",
    "print(vit_output_1.size())\n",
    "print(vit_output_2.size())\n",
    "print(vit_output_3.size())\n",
    "print(vit_output_4.size())\n",
    "print(vit_output_4.mean())"
   ],
   "metadata": {
    "collapsed": false,
    "ExecuteTime": {
     "end_time": "2024-03-02T08:18:48.373490100Z",
     "start_time": "2024-03-02T08:18:47.860619800Z"
    }
   },
   "id": "ea2da45c6ac20d86",
   "execution_count": 10
  },
  {
   "cell_type": "code",
   "outputs": [
    {
     "name": "stderr",
     "output_type": "stream",
     "text": [
      "/home/kuokyong/miniconda3/envs/ovseg/lib/python3.8/site-packages/torch/functional.py:445: UserWarning: torch.meshgrid: in an upcoming release, it will be required to pass the indexing argument. (Triggered internally at  ../aten/src/ATen/native/TensorShape.cpp:2157.)\n",
      "  return _VF.meshgrid(tensors, **kwargs)  # type: ignore[attr-defined]\n"
     ]
    }
   ],
   "source": [
    "output = vit_adapter(vit_input)"
   ],
   "metadata": {
    "collapsed": false,
    "ExecuteTime": {
     "end_time": "2024-03-02T08:16:06.361674Z",
     "start_time": "2024-03-02T08:13:30.704260Z"
    }
   },
   "id": "2068feab6ca906a7",
   "execution_count": 4
  },
  {
   "cell_type": "code",
   "outputs": [
    {
     "name": "stdout",
     "output_type": "stream",
     "text": [
      "4\n",
      "torch.Size([1, 1536, 128, 128])\n",
      "tensor(-1.1156e-10, grad_fn=<MeanBackward0>)\n",
      "torch.Size([1, 1536, 64, 64])\n",
      "tensor(9.3617e-10, grad_fn=<MeanBackward0>)\n",
      "torch.Size([1, 1536, 32, 32])\n",
      "tensor(-2.0858e-09, grad_fn=<MeanBackward0>)\n",
      "torch.Size([1, 1536, 16, 16])\n",
      "tensor(9.7013e-11, grad_fn=<MeanBackward0>)\n"
     ]
    }
   ],
   "source": [
    "print(len(output))\n",
    "for single_output in output:\n",
    "    print(single_output.size())\n",
    "    print(single_output.mean())\n",
    "    "
   ],
   "metadata": {
    "collapsed": false,
    "ExecuteTime": {
     "end_time": "2024-03-02T08:18:33.561529600Z",
     "start_time": "2024-03-02T08:18:33.375347Z"
    }
   },
   "id": "5cd715e8e962a5eb",
   "execution_count": 9
  },
  {
   "cell_type": "code",
   "outputs": [],
   "source": [],
   "metadata": {
    "collapsed": false
   },
   "id": "f22cd448db1b5152"
  }
 ],
 "metadata": {
  "kernelspec": {
   "display_name": "Python 3",
   "language": "python",
   "name": "python3"
  },
  "language_info": {
   "codemirror_mode": {
    "name": "ipython",
    "version": 2
   },
   "file_extension": ".py",
   "mimetype": "text/x-python",
   "name": "python",
   "nbconvert_exporter": "python",
   "pygments_lexer": "ipython2",
   "version": "2.7.6"
  }
 },
 "nbformat": 4,
 "nbformat_minor": 5
}
